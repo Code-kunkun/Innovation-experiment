{
 "cells": [
  {
   "cell_type": "markdown",
   "id": "available-wilderness",
   "metadata": {},
   "source": [
    "### 一、图片收集"
   ]
  },
  {
   "cell_type": "markdown",
   "id": "lucky-hierarchy",
   "metadata": {},
   "source": [
    "1、开启摄像头并显示其视频流"
   ]
  },
  {
   "cell_type": "code",
   "execution_count": 1,
   "id": "stunning-colors",
   "metadata": {},
   "outputs": [
    {
     "data": {
      "application/vnd.jupyter.widget-view+json": {
       "model_id": "fd8bd8840def4230a3d50e2f345cde2b",
       "version_major": 2,
       "version_minor": 0
      },
      "text/plain": [
       "Image(value=b'', format='jpeg')"
      ]
     },
     "metadata": {},
     "output_type": "display_data"
    }
   ],
   "source": [
    "from FilesWeNeed.csi_camera import CSICamera\n",
    "import ipywidgets\n",
    "from IPython.display import display\n",
    "from jetcam.utils import bgr8_to_jpeg\n",
    "\n",
    "#初始化摄像头\n",
    "camera = CSICamera(width=224, height=224)\n",
    "camera.running = True\n",
    "camera.unobserve_all()#避免二次使用摄像头\n",
    "\n",
    "#定义摄像头显示控件\n",
    "camera_widget = ipywidgets.Image(format='jpeg')\n",
    "def update_image(change):\n",
    "    image = change['new']\n",
    "    camera_widget.value = bgr8_to_jpeg(image)\n",
    "camera.observe(update_image, names='value')\n",
    "#显示摄像头控件\n",
    "display(camera_widget)"
   ]
  },
  {
   "cell_type": "code",
   "execution_count": 1,
   "id": "caroline-thread",
   "metadata": {},
   "outputs": [
    {
     "ename": "NameError",
     "evalue": "name 'camera' is not defined",
     "output_type": "error",
     "traceback": [
      "\u001b[0;31m---------------------------------------------------------------------------\u001b[0m",
      "\u001b[0;31mNameError\u001b[0m                                 Traceback (most recent call last)",
      "\u001b[0;32m<ipython-input-1-6381c816c9e8>\u001b[0m in \u001b[0;36m<module>\u001b[0;34m\u001b[0m\n\u001b[1;32m      1\u001b[0m \u001b[0;31m#释放摄像头\u001b[0m\u001b[0;34m\u001b[0m\u001b[0;34m\u001b[0m\u001b[0;34m\u001b[0m\u001b[0m\n\u001b[0;32m----> 2\u001b[0;31m \u001b[0mcamera\u001b[0m\u001b[0;34m.\u001b[0m\u001b[0mrelease_camera\u001b[0m\u001b[0;34m(\u001b[0m\u001b[0;34m)\u001b[0m\u001b[0;34m\u001b[0m\u001b[0;34m\u001b[0m\u001b[0m\n\u001b[0m",
      "\u001b[0;31mNameError\u001b[0m: name 'camera' is not defined"
     ]
    }
   ],
   "source": [
    "#释放摄像头\n",
    "camera.release_camera()"
   ]
  },
  {
   "cell_type": "markdown",
   "id": "hungarian-confirmation",
   "metadata": {},
   "source": [
    "2、遥控手柄初始化"
   ]
  },
  {
   "cell_type": "code",
   "execution_count": 24,
   "id": "portuguese-engineering",
   "metadata": {},
   "outputs": [
    {
     "data": {
      "application/vnd.jupyter.widget-view+json": {
       "model_id": "3389ba6b87cb4512a0fd92ce5811dfa0",
       "version_major": 2,
       "version_minor": 0
      },
      "text/plain": [
       "Controller()"
      ]
     },
     "metadata": {},
     "output_type": "display_data"
    }
   ],
   "source": [
    "import ipywidgets\n",
    "from IPython.display import display\n",
    "from jetracer.nvidia_racecar import NvidiaRacecar\n",
    "import traitlets\n",
    "\n",
    "#初始化遥控手柄\n",
    "controller = ipywidgets.Controller(index=0)\n",
    "#显示遥控手柄\n",
    "display(controller)\n",
    "\n",
    "#初始化小车\n",
    "car = NvidiaRacecar()\n",
    "car.throttle_gain = 0.14\n",
    "car.steering_offset=0.11\n",
    "car.steering_gain=0.75"
   ]
  },
  {
   "cell_type": "code",
   "execution_count": 25,
   "id": "abroad-rachel",
   "metadata": {},
   "outputs": [],
   "source": [
    "left_link = traitlets.dlink((controller.axes[0], 'value'), (car, 'steering'), transform=lambda x: -x)\n",
    "right_link = traitlets.dlink((controller.axes[5], 'value'), (car, 'throttle'), transform=lambda x: -x)"
   ]
  },
  {
   "cell_type": "code",
   "execution_count": 2,
   "id": "needed-pasta",
   "metadata": {},
   "outputs": [],
   "source": [
    "import torchvision.transforms as transforms\n",
    "from xy_dataset_addStop import XYDataset\n",
    "\n",
    "TRANSFORMS = transforms.Compose([      \n",
    "    transforms.ColorJitter(0.2, 0.2, 0.2, 0.2),\n",
    "    transforms.Resize((224, 224)),\n",
    "    transforms.ToTensor(),\n",
    "    transforms.Normalize([0.485, 0.456, 0.406], [0.229, 0.224, 0.225])\n",
    "])\n",
    "\n",
    "#分为自动收集和手动收集两个数据集，需要更多不同场景时，需要重新添加另外搞个数据集，不能混在一起\n",
    "TASK = 'racing'\n",
    "CATEGORIES = ['apex24_弯道2增强']\n",
    "DATASETS = ['AutoCollect', 'ManualCollect']\n",
    "datasets = {}\n",
    "for name in DATASETS:\n",
    "    datasets[name] = XYDataset(TASK + '_' + name, CATEGORIES, TRANSFORMS, random_hflip=True)\n",
    "\n",
    "#初始化数据集\n",
    "dataset = datasets[DATASETS[0]]"
   ]
  },
  {
   "cell_type": "markdown",
   "id": "narrow-incidence",
   "metadata": {},
   "source": [
    "3、定义传统的单张点击保存"
   ]
  },
  {
   "cell_type": "code",
   "execution_count": 3,
   "id": "instant-concert",
   "metadata": {},
   "outputs": [
    {
     "data": {
      "application/vnd.jupyter.widget-view+json": {
       "model_id": "f22d4099e67748fb87da03aeeaf8bf38",
       "version_major": 2,
       "version_minor": 0
      },
      "text/plain": [
       "VBox(children=(HBox(children=(ClickableImageWidget(value=b'\\xff\\xd8\\xff\\xe0\\x00\\x10JFIF\\x00\\x01\\x01\\x00\\x00\\x0…"
      ]
     },
     "metadata": {},
     "output_type": "display_data"
    }
   ],
   "source": [
    "import cv2\n",
    "import ipywidgets \n",
    "import traitlets\n",
    "from IPython.display import display\n",
    "from jetcam.utils import bgr8_to_jpeg\n",
    "from jupyter_clickable_image_widget import ClickableImageWidget\n",
    "\n",
    "#创建图片预览\n",
    "camera_widget = ClickableImageWidget(width=camera.width, height=camera.height)\n",
    "snapshot_widget = ipywidgets.Image(width=camera.width, height=camera.height)\n",
    "traitlets.dlink((camera, 'value'), (camera_widget, 'value'), transform=bgr8_to_jpeg)\n",
    "\n",
    "#dataset_widget控件\n",
    "dataset_widget = ipywidgets.Dropdown(options=DATASETS, description='dataset')\n",
    "def set_dataset(change):\n",
    "    global dataset\n",
    "    dataset = datasets[change['new']]\n",
    "    count_widget.value = dataset.get_count(category_widget.value)\n",
    "dataset_widget.observe(set_dataset, names='value')\n",
    "\n",
    "#category_widget控件\n",
    "category_widget = ipywidgets.Dropdown(options=dataset.categories, description='category')\n",
    "def update_counts(change):\n",
    "    count_widget.value = dataset.get_count(change['new'])\n",
    "category_widget.observe(update_counts, names='value')\n",
    "\n",
    "#count_widget控件\n",
    "count_widget = ipywidgets.IntText(description='count')\n",
    "count_widget.value = dataset.get_count(category_widget.value)\n",
    "\n",
    "#点击确定目标值以及保存图片\n",
    "def save_snapshot(_, content, msg):\n",
    "    print(\"点击有反应\")\n",
    "    if content['event'] == 'click': #点击触发事件函数\n",
    "        data = content['eventData']\n",
    "        x = data['offsetX']\n",
    "        y = data['offsetY']\n",
    "        \n",
    "        # save to disk\n",
    "        dataset.save_entry(category_widget.value, camera.value, x, y)\n",
    "        \n",
    "        # display saved snapshot\n",
    "        snapshot = camera.value.copy()\n",
    "        snapshot = cv2.circle(snapshot, (x, y), 8, (0, 255, 0), 3)\n",
    "        snapshot_widget.value = bgr8_to_jpeg(snapshot)\n",
    "        count_widget.value = dataset.get_count(category_widget.value)\n",
    "camera_widget.on_msg(save_snapshot)\n",
    "\n",
    "#控件集合展示\n",
    "data_collection_widget = ipywidgets.VBox([\n",
    "    ipywidgets.HBox([camera_widget, snapshot_widget]),\n",
    "    dataset_widget,\n",
    "    category_widget,\n",
    "    count_widget\n",
    "])\n",
    "display(data_collection_widget)"
   ]
  },
  {
   "cell_type": "markdown",
   "id": "directed-trunk",
   "metadata": {},
   "source": [
    "4、连续图片收集"
   ]
  },
  {
   "cell_type": "code",
   "execution_count": 4,
   "id": "portable-admission",
   "metadata": {},
   "outputs": [],
   "source": [
    "import time\n",
    "# import winsound\n",
    "\n",
    "#开启循环，约计7分钟每1000张\n",
    "i = 0\n",
    "while i < 200:\n",
    "    i +=1\n",
    "    #保存到不同文件夹时，修改下述函数第一个参数\n",
    "    dataset.save_auto('apex24_弯道2增强', camera.value, count_widget.value)\n",
    "    count_widget.value = dataset.get_count(category_widget.value)\n",
    "    \n",
    "    #每隔一段时间收集一次数据\n",
    "    time.sleep(0.4)"
   ]
  },
  {
   "cell_type": "markdown",
   "id": "smaller-iceland",
   "metadata": {},
   "source": [
    "### 二、图片批量处理"
   ]
  },
  {
   "cell_type": "code",
   "execution_count": 4,
   "id": "binding-break",
   "metadata": {},
   "outputs": [
    {
     "data": {
      "application/vnd.jupyter.widget-view+json": {
       "model_id": "33fc6bf18bc64047ac91ac8659eac7eb",
       "version_major": 2,
       "version_minor": 0
      },
      "text/plain": [
       "HBox(children=(VBox(children=(ClickableImageWidget(value=b'\\xff\\xd8\\xff\\xe0\\x00\\x10JFIF\\x00\\x01\\x01\\x00\\x00\\x0…"
      ]
     },
     "metadata": {},
     "output_type": "display_data"
    }
   ],
   "source": [
    "import cv2\n",
    "import glob\n",
    "import os\n",
    "from jupyter_clickable_image_widget import ClickableImageWidget\n",
    "import ipywidgets \n",
    "import traitlets\n",
    "from IPython.display import display\n",
    "from jetcam.utils import bgr8_to_jpeg\n",
    "import numpy as np\n",
    "import uuid\n",
    "import shutil\n",
    "\n",
    "image_shot_widget = ClickableImageWidget(width=224, height=224)\n",
    "snapshot_widget2 = ipywidgets.Image(width=224, height=224)\n",
    "show_path_widget1 = ipywidgets.Text()\n",
    "show_path_widget2 = ipywidgets.Text()\n",
    "\n",
    "del_button1 = ipywidgets.Button(description='删除')\n",
    "del_button2 = ipywidgets.Button(description='删除')\n",
    "stop_button = ipywidgets.Button(description='停车')\n",
    "straight_button = ipywidgets.Button(description='直走')\n",
    "left_button = ipywidgets.Button(description='左转')\n",
    "slow_button = ipywidgets.Button(description='减速')\n",
    "speed_button = ipywidgets.Button(description='加速')\n",
    "\n",
    "img = []\n",
    "imagepath0={}\n",
    "new_filename = ''\n",
    "stop = 0\n",
    "straight = 0\n",
    "left = 0\n",
    "slow = 0\n",
    "speed = 0\n",
    "count_new = 1\n",
    "\n",
    "#定义迭代器，看文件名的计数在哪里\n",
    "it = iter(sorted(glob.glob(os.path.join('racing_AutoCollect', 'apex8_中间','*.jpg')), \n",
    "                 key=lambda x: int((os.path.basename(x).split('.')[0]).split('_')[0])))\n",
    "\n",
    "#点击删除按钮进行删除并转到下一张图片\n",
    "def read_image(image_path):\n",
    "    global img, imagepath0\n",
    "    img = cv2.imread(image_path)\n",
    "    image_shot_widget.value = bytes(bgr8_to_jpeg(img))\n",
    "    imagepath0 = image_path\n",
    "    show_path_widget1.value = imagepath0\n",
    "    # print(imagepath0)\n",
    "\n",
    "read_image(next(it))\n",
    "\n",
    "#点击确定目标值以及保存图片\n",
    "def save_snapshot2(_, content, msg):\n",
    "    global new_filename,stop,straight,left,slow,speed,count_new\n",
    "\n",
    "    if content['event'] == 'click': #点击触发事件函数\n",
    "        data = content['eventData']\n",
    "        x = data['offsetX']\n",
    "        y = data['offsetY']\n",
    "\n",
    "        print(x,y)\n",
    "        snapshot = cv2.circle(np.float32(img), (x, y), 8, (0, 255, 0), 3)\n",
    "        snapshot_widget2.value = bgr8_to_jpeg(snapshot)\n",
    "        \n",
    "        #因为之前已经标注过，所以先不复制保留数据\n",
    "        dest_dir = './racing_AutoCollect/已标注/Middle_8'\n",
    "        shutil.copy(imagepath0,dest_dir)\n",
    "        dest_file = os.path.join(dest_dir, os.path.basename(imagepath0).split('/')[-1])\n",
    "        \n",
    "        #重新改名\n",
    "        new_filename = os.path.join(dest_dir, '%d_%d_%d_%d_%d_%d_%d_%d_%s.jpg' % (count_new,x,y,stop,straight,left,slow,speed,str(uuid.uuid1())))\n",
    "        os.rename(dest_file,new_filename)\n",
    "        stop = 0\n",
    "        straight = 0\n",
    "        left = 0\n",
    "        slow = 0\n",
    "        speed = 0\n",
    "        count_new = count_new + 1\n",
    "        show_path_widget2.value = new_filename\n",
    "        read_image(next(it))\n",
    "image_shot_widget.on_msg(save_snapshot2)\n",
    "\n",
    "def stopIn():\n",
    "    global stop\n",
    "    stop=1\n",
    "    return None\n",
    "def straightIn():\n",
    "    global straight\n",
    "    straight=1\n",
    "    return None\n",
    "def leftIn():\n",
    "    global left\n",
    "    left=1\n",
    "    return None\n",
    "def slowIn():\n",
    "    global slow\n",
    "    slow=1\n",
    "    return None\n",
    "def speedIn():\n",
    "    global speed\n",
    "    speed=1\n",
    "    return None\n",
    "\n",
    "del_button1.on_click(lambda c: read_image(next(it)))     # 对于无用照片进行跳过\n",
    "del_button2.on_click(lambda c: os.remove(new_filename)) # 对于确定错误目标值的照片进行移除\n",
    "stop_button.on_click(lambda c: stopIn())\n",
    "straight_button.on_click(lambda c: straightIn())\n",
    "left_button.on_click(lambda c: leftIn())\n",
    "slow_button.on_click(lambda c: slowIn())\n",
    "speed_button.on_click(lambda c: speedIn())\n",
    "\n",
    "all_widget = ipywidgets.HBox([\n",
    "    ipywidgets.VBox([image_shot_widget,show_path_widget1,del_button1,stop_button,straight_button,left_button,slow_button,speed_button]), \n",
    "    ipywidgets.VBox([snapshot_widget2, show_path_widget2, del_button2]),\n",
    "])\n",
    "\n",
    "display(all_widget)"
   ]
  },
  {
   "cell_type": "code",
   "execution_count": 13,
   "id": "agricultural-inspection",
   "metadata": {},
   "outputs": [],
   "source": []
  },
  {
   "cell_type": "code",
   "execution_count": 1,
   "id": "convinced-constant",
   "metadata": {},
   "outputs": [],
   "source": [
    "# import os\n",
    "# import glob\n",
    "# # print(glob.glob(os.path.join('racing_AutoCollect', 'apex', '*.jpg')))\n",
    "# print(sorted(glob.glob(os.path.join('racing_AutoCollect', 'apex', '*.jpg')), key=lambda x: int((os.path.basename(x).split('.')[0]).split('_')[-1])))\n"
   ]
  },
  {
   "cell_type": "markdown",
   "id": "wrong-paragraph",
   "metadata": {},
   "source": [
    "### 三、添加路标标注"
   ]
  },
  {
   "cell_type": "code",
   "execution_count": 12,
   "id": "relevant-dictionary",
   "metadata": {},
   "outputs": [
    {
     "data": {
      "application/vnd.jupyter.widget-view+json": {
       "model_id": "b1dc655fe0b34b28ae2570920b3faddd",
       "version_major": 2,
       "version_minor": 0
      },
      "text/plain": [
       "HBox(children=(VBox(children=(Image(value=b'\\xff\\xd8\\xff\\xe0\\x00\\x10JFIF\\x00\\x01\\x01\\x00\\x00\\x01\\x00\\x01\\x00\\x…"
      ]
     },
     "metadata": {},
     "output_type": "display_data"
    }
   ],
   "source": [
    "import cv2\n",
    "import glob\n",
    "import os\n",
    "from jupyter_clickable_image_widget import ClickableImageWidget\n",
    "import ipywidgets \n",
    "import traitlets\n",
    "from IPython.display import display\n",
    "from jetcam.utils import bgr8_to_jpeg\n",
    "import numpy as np\n",
    "import uuid\n",
    "import time\n",
    "\n",
    "image_widget = ipywidgets.Image(width=224, height=224)\n",
    "\n",
    "show_path_widget = ipywidgets.Text()\n",
    "stop_button1 = ipywidgets.Button(description='停车')\n",
    "stop_button2 = ipywidgets.Button(description='不停车')\n",
    "img = []\n",
    "new_filename = ''\n",
    "\n",
    "#定义迭代器  按照图片编号进行排序\n",
    "it = iter(sorted(glob.glob(os.path.join('racing_AutoCollect', 'processed_9_26_1800', '*.jpg')), \n",
    "                 key=lambda x: int((os.path.basename(x).split('.')[0]).split('_')[2])))\n",
    "\n",
    "#首张图片显示\n",
    "image_path0 = next(it)\n",
    "# os.remove('racing_AutoCollect/processed_9_26_1800/127_58_4_e7fc0b72-1eaf-11ec-a343-845cf326e67a.jpg')\n",
    "img = cv2.imread(image_path0)\n",
    "image_widget.value = bytes(bgr8_to_jpeg(img))\n",
    "new_filename = image_path0     #对首张图片不做处理\n",
    "\n",
    "# for i in range(10):\n",
    "#     img = cv2.imread(next(it))\n",
    "#     image_widget.value = bytes(bgr8_to_jpeg(img))\n",
    "#     time.sleep(1)\n",
    "\n",
    "#点击删除按钮进行删除并转到下一张图片\n",
    "def read_image(image_path, is_stop=0):\n",
    "    global img, image_path0, new_filename\n",
    "    \n",
    "    #将上一个文件名更改                                 必须特定处理初始值和末尾值\n",
    "    show_path_widget.value = image_path\n",
    "    os.rename(image_path0,new_filename)\n",
    "    \n",
    "    img = cv2.imread(image_path)\n",
    "    image_widget.value = bytes(bgr8_to_jpeg(img))\n",
    "    \n",
    "    #保留xy值\n",
    "    x = int((os.path.basename(image_path).split('.')[0]).split('_')[0])\n",
    "    y = int((os.path.basename(image_path).split('.')[0]).split('_')[1])\n",
    "    count = (os.path.basename(image_path).split('.')[0]).split('_')[2]\n",
    "    \n",
    "    new_filename = './racing_AutoCollect/add_IsStop/%d_%d_%s_%s_%s.jpg' % (x, y, is_stop, count, str(uuid.uuid1()))\n",
    "    image_path0 = image_path\n",
    "    show_path_widget.value = new_filename\n",
    "\n",
    "stop_button1.on_click(lambda c: read_image(next(it), 1))    \n",
    "stop_button2.on_click(lambda c: read_image(next(it), 0)) \n",
    "\n",
    "all_widget = ipywidgets.HBox([\n",
    "    ipywidgets.VBox([image_widget, show_path_widget, stop_button1, stop_button2]), \n",
    "])\n",
    "\n",
    "display(all_widget)"
   ]
  },
  {
   "cell_type": "markdown",
   "id": "angry-advertising",
   "metadata": {},
   "source": [
    "### 文件处理"
   ]
  },
  {
   "cell_type": "code",
   "execution_count": 15,
   "id": "faced-effect",
   "metadata": {},
   "outputs": [
    {
     "ename": "ModuleNotFoundError",
     "evalue": "No module named 'more_itertools'",
     "output_type": "error",
     "traceback": [
      "\u001b[0;31m---------------------------------------------------------------------------\u001b[0m",
      "\u001b[0;31mModuleNotFoundError\u001b[0m                       Traceback (most recent call last)",
      "\u001b[0;32m<ipython-input-15-83a55bc06a94>\u001b[0m in \u001b[0;36m<module>\u001b[0;34m\u001b[0m\n\u001b[1;32m      1\u001b[0m \u001b[0;32mimport\u001b[0m \u001b[0mos\u001b[0m\u001b[0;34m\u001b[0m\u001b[0;34m\u001b[0m\u001b[0m\n\u001b[0;32m----> 2\u001b[0;31m \u001b[0;32mimport\u001b[0m \u001b[0mmore_itertools\u001b[0m\u001b[0;34m\u001b[0m\u001b[0;34m\u001b[0m\u001b[0m\n\u001b[0m\u001b[1;32m      3\u001b[0m \u001b[0mdest_dir\u001b[0m \u001b[0;34m=\u001b[0m \u001b[0;34m'./racing_AutoCollect/test_5M_2R_1L_1S'\u001b[0m\u001b[0;34m\u001b[0m\u001b[0;34m\u001b[0m\u001b[0m\n\u001b[1;32m      4\u001b[0m \u001b[0;34m\u001b[0m\u001b[0m\n\u001b[1;32m      5\u001b[0m \u001b[0;31m# for i in range(5):\u001b[0m\u001b[0;34m\u001b[0m\u001b[0;34m\u001b[0m\u001b[0;34m\u001b[0m\u001b[0m\n",
      "\u001b[0;31mModuleNotFoundError\u001b[0m: No module named 'more_itertools'"
     ]
    }
   ],
   "source": [
    "import os\n",
    "import more_itertools\n",
    "dest_dir = './racing_AutoCollect/test_5M_2R_1L_1S'\n",
    "\n",
    "# for i in range(5):\n",
    "path = './racing_AutoCollect/已标注/Stop_1'\n",
    "it = iter(glob.glob(os.path.join(dest_dir, '*.jpg')))\n",
    "for image in it:\n",
    "    shutil.copy(image,dest_dir)\n",
    "\n",
    "print(more_itertools.ilen(it))"
   ]
  },
  {
   "cell_type": "code",
   "execution_count": null,
   "id": "paperback-guest",
   "metadata": {},
   "outputs": [],
   "source": []
  }
 ],
 "metadata": {
  "kernelspec": {
   "display_name": "Python 3",
   "language": "python",
   "name": "python3"
  },
  "language_info": {
   "codemirror_mode": {
    "name": "ipython",
    "version": 3
   },
   "file_extension": ".py",
   "mimetype": "text/x-python",
   "name": "python",
   "nbconvert_exporter": "python",
   "pygments_lexer": "ipython3",
   "version": "3.6.9"
  }
 },
 "nbformat": 4,
 "nbformat_minor": 5
}
